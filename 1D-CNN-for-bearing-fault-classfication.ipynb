{
 "cells": [
  {
   "cell_type": "code",
   "execution_count": null,
   "metadata": {},
   "outputs": [],
   "source": [
    "import numpy as np\n",
    "import tensorflow as tf\n",
    "import os\n",
    "import matplotlib.pyplot as plt\n",
    "import scipy.io as scio\n",
    "import pandas as pd\n"
   ]
  },
  {
   "cell_type": "code",
   "execution_count": null,
   "metadata": {},
   "outputs": [],
   "source": [
    "dp = '.\\\\dataset'\n",
    "names = os.listdir(dp)\n",
    "print(names)"
   ]
  },
  {
   "cell_type": "code",
   "execution_count": null,
   "metadata": {},
   "outputs": [],
   "source": [
    "names_dict = {'B':[],'IR':[],'OR':[],'normal':[]}\n",
    "for name in names:\n",
    "    if 'B' in name: names_dict['B'].append(name)\n",
    "    if 'IR' in name: names_dict['IR'].append(name)\n",
    "    if 'OR' in name: names_dict['OR'].append(name)\n",
    "    if 'normal' in name: names_dict['normal'].append(name)\n",
    "\n",
    "for c in names_dict.keys():\n",
    "    print(c,len(names_dict[c]),sep='\\t')\n",
    "    \n",
    "names_dict[c] = names_dict[c] + ['None']*8\n",
    "df = pd.DataFrame(names_dict,)\n",
    "df"
   ]
  },
  {
   "cell_type": "markdown",
   "metadata": {},
   "source": [
    "# 一个文件名由3个内容组成：“故障类型”+“故障程度”+“第几次实验”"
   ]
  },
  {
   "cell_type": "markdown",
   "metadata": {},
   "source": [
    "故障严重(qdata)：B/IR/OR的021 + normal=（3+1）组，每组有0/1/2/3次实验\n",
    "\n",
    "故障轻微(zdata)：B/IR/OR的007 + normal=（3+1）组，每组有0/1/2/3次实验\n",
    "\n",
    "'B','IR','OR','normal' = 1/2/3/4"
   ]
  },
  {
   "cell_type": "code",
   "execution_count": null,
   "metadata": {},
   "outputs": [],
   "source": [
    "qdata = []\n",
    "zdata = []\n",
    "\n",
    "for c in ['B','IR','OR','normal']:\n",
    "    for item in names_dict[c]:\n",
    "        if '007' in item:\n",
    "            qdata.append(item)\n",
    "            \n",
    "        if '021' in item:\n",
    "            zdata.append(item)\n",
    "            \n",
    "        if 'normal' in item:\n",
    "            qdata.append(item)\n",
    "            zdata.append(item)\n",
    "            \n",
    "for i in range(16):\n",
    "    print(qdata[i],zdata[i],sep='\\t')    "
   ]
  },
  {
   "cell_type": "markdown",
   "metadata": {},
   "source": [
    "# mat数据解析"
   ]
  },
  {
   "cell_type": "code",
   "execution_count": null,
   "metadata": {},
   "outputs": [],
   "source": [
    "print(os.path.join(dp, names[0]))\n",
    "mat = scio.loadmat(os.path.join(dp, names[0]))\n",
    "print(list(mat.keys()))"
   ]
  },
  {
   "cell_type": "code",
   "execution_count": null,
   "metadata": {},
   "outputs": [],
   "source": [
    "def find_target_key(target,mat):\n",
    "    for key in  list(mat.keys()):\n",
    "        if target in key: break\n",
    "    return key\n",
    "\n",
    "find_target_key(target='FE',mat=mat)"
   ]
  },
  {
   "cell_type": "code",
   "execution_count": null,
   "metadata": {
    "scrolled": false
   },
   "outputs": [],
   "source": [
    "for name in names[::4]:\n",
    "    mat = scio.loadmat(os.path.join(dp, name))\n",
    "    DE_key = find_target_key(target='DE',mat=mat)\n",
    "    FE_key = find_target_key(target='FE',mat=mat)\n",
    "    \n",
    "    DE = mat[DE_key]\n",
    "    FE = mat[FE_key]    \n",
    "    \n",
    "    plt.figure(figsize=(8,2))\n",
    "    plt.plot(DE,label='DE')\n",
    "#     plt.plot(FE,label='FE')\n",
    "#     plt.legend()\n",
    "    plt.ylabel(name[:1])\n",
    "    plt.savefig(name[:-3],dpi=300)\n",
    "    plt.show()"
   ]
  },
  {
   "cell_type": "markdown",
   "metadata": {},
   "source": [
    "# 采样率=12kHz，4000/12000=1/3=0.3秒的数据"
   ]
  },
  {
   "cell_type": "code",
   "execution_count": null,
   "metadata": {},
   "outputs": [],
   "source": [
    "def scale(x):\n",
    "    mean = np.mean(x)\n",
    "    std = np.std(x)\n",
    "    return (x - mean)/std\n",
    "\n",
    "# def scale(x):\n",
    "#     mi = np.min(x)\n",
    "#     ma = np.max(x)\n",
    "#     return (x - mi)/(ma-mi)*2-1"
   ]
  },
  {
   "cell_type": "code",
   "execution_count": null,
   "metadata": {},
   "outputs": [],
   "source": [
    "qdata_DE = []       # 存储轻(q)故障数据的driven end，DE 数据\n",
    "qlabel = []     # 存储重(q)故障数据的label\n",
    "zdata_DE = []       # 存储重(z)故障数据的driven end，DE 数据\n",
    "zlabel = []     # 存储重(q)故障数据的label\n",
    "label_2_num = {'B':1,'I':2,'O':3,'n':0}\n",
    "\n",
    "for name in qdata:\n",
    "    mat = scio.loadmat(os.path.join(dp, name))\n",
    "    DE_key = find_target_key(target='DE',mat=mat)\n",
    "    DE = mat[DE_key]\n",
    "    DE = scale(DE)\n",
    "    DE_12 = DE[:120000].reshape(30,-1)\n",
    "    qdata_DE.append(DE_12) \n",
    "    c = label_2_num[name[0]]\n",
    "    qlabel = qlabel + 30*[c]\n",
    "    print(name,DE_key,DE.shape,DE_12.shape,sep='\\t')\n",
    "    \n",
    "qdata_DE = np.concatenate(qdata_DE)\n",
    "print(qdata_DE.shape,len(qlabel),qlabel[::30])\n",
    "    \n",
    "for name in zdata:\n",
    "    mat = scio.loadmat(os.path.join(dp, name))\n",
    "    DE_key = find_target_key(target='DE',mat=mat)\n",
    "    DE = mat[DE_key]\n",
    "    DE = scale(DE)\n",
    "    DE_12 = DE[:120000].reshape(30,-1)\n",
    "    zdata_DE.append(DE_12) \n",
    "    c = label_2_num[name[0]]\n",
    "    zlabel = zlabel + 30*[c]\n",
    "    print(name,DE_key,DE.shape,DE_12.shape,sep='\\t')\n",
    "    \n",
    "zdata_DE = np.concatenate(zdata_DE)\n",
    "print(zdata_DE.shape,len(zlabel),zlabel[::30])"
   ]
  },
  {
   "cell_type": "code",
   "execution_count": null,
   "metadata": {},
   "outputs": [],
   "source": [
    "for i in [0,120,240,360]:\n",
    "    plt.figure(figsize=(8,1))\n",
    "    plt.plot(zdata_DE[i])\n",
    "    plt.ylabel(zlabel[i])\n",
    "    plt.show()"
   ]
  },
  {
   "cell_type": "code",
   "execution_count": null,
   "metadata": {},
   "outputs": [],
   "source": [
    "qds = tf.data.Dataset.from_tensor_slices((qdata_DE,qlabel)).shuffle(1000)\n",
    "zds = tf.data.Dataset.from_tensor_slices((zdata_DE,zlabel)).shuffle(1000)\n",
    "ds = zds\n",
    "tra_ds = ds.take(360).shuffle(1000).repeat().batch(12) # 取前 360/480 做为训练\n",
    "tes_ds = ds.skip(360).shuffle(1000).repeat().batch(12) # 取后 （480-360）/480 做为测试\n",
    "\n",
    "for i,(x,y) in enumerate(tra_ds):\n",
    "    print(i,x.shape,y.shape,x.dtype,y,sep='\\t')\n",
    "    break\n",
    "        \n",
    "x = x.numpy()\n",
    "y = y.numpy()\n",
    "print(x.shape,np.mean(y))\n",
    "\n",
    "for i in range(4):\n",
    "    plt.figure(figsize=(8,1))\n",
    "    plt.plot(x[i])\n",
    "    plt.ylabel(y[i])\n",
    "    plt.show()\n",
    "print()"
   ]
  },
  {
   "cell_type": "markdown",
   "metadata": {},
   "source": [
    "# 构建模型"
   ]
  },
  {
   "cell_type": "code",
   "execution_count": null,
   "metadata": {},
   "outputs": [],
   "source": [
    "dim = qdata_DE.shape[-1]\n",
    "model = tf.keras.models.Sequential([\n",
    "    tf.keras.layers.Input(shape=(dim,)),\n",
    "\n",
    "#-------------------------------------卷积网络---------------------------------\n",
    "    tf.keras.layers.Reshape((dim, 1)),\n",
    "    tf.keras.layers.Conv1D(4,5,2,activation='relu',padding='same'),\n",
    "    tf.keras.layers.MaxPool1D(),    \n",
    "    tf.keras.layers.Conv1D(8,3,2,activation='relu',padding='same'),\n",
    "    tf.keras.layers.Conv1D(16,3,2,activation='relu',padding='same'),\n",
    "    tf.keras.layers.Flatten(),\n",
    "#-------------------------------------卷积网络---------------------------------\n",
    "\n",
    "#-------------------------------------全连接网络---------------------------------\n",
    "    tf.keras.layers.Dense(64, activation='relu'),\n",
    "#-------------------------------------全连接网络---------------------------------\n",
    "    \n",
    "    tf.keras.layers.Dropout(0.2),    \n",
    "    tf.keras.layers.Dense(4, activation='softmax'),\n",
    "])\n",
    "\n",
    "model.summary()\n",
    "tf.keras.utils.plot_model(model,show_shapes=True,show_layer_names=True,dpi=300,)"
   ]
  },
  {
   "cell_type": "code",
   "execution_count": null,
   "metadata": {},
   "outputs": [],
   "source": [
    "model.compile(optimizer=tf.keras.optimizers.Adam(1e-3), \n",
    "              loss=tf.keras.losses.SparseCategoricalCrossentropy(),\n",
    "              # tf.keras.losses.SparseCategoricalCrossentropy(), 'sparse_categorical_crossentropy'\n",
    "              metrics=['acc'])\n",
    "\n",
    "h = model.fit(tra_ds,       epochs=20,        steps_per_epoch = 10 ,\n",
    "                validation_data=tes_ds,        validation_steps=4)"
   ]
  },
  {
   "cell_type": "code",
   "execution_count": null,
   "metadata": {},
   "outputs": [],
   "source": [
    "font = {'family' : 'Times New Roman','weight' : 'normal','size'   : 30,}\n",
    "\n",
    "figure, ax = plt.subplots(figsize=[10,7])\n",
    "ax.plot(h.history['loss'], linewidth=2)\n",
    "ax.plot(h.history['val_loss'], linewidth=2)\n",
    "\n",
    "ax.legend(['train loss','valid loss'],fontsize=15,loc ='center right')\n",
    "ax.xaxis.grid(True, linestyle='--', which='major', color='grey', alpha=.2)\n",
    "ax.yaxis.grid(True, linestyle='--', which='major', color='grey', alpha=.5)\n",
    "\n",
    "ax.tick_params(labelsize=20)  # 坐标刻度上的字的大小\n",
    "ax.set_xlabel(xlabel='steps',     fontdict=font)\n",
    "ax.set_ylabel(ylabel='loss',  fontdict=font)\n",
    "# ax.set_ylim(0,1)\n",
    "plt.savefig('loss_steps.png',dpi=300)\n",
    "plt.show()\n",
    "\n",
    "figure, ax = plt.subplots(figsize=[10,7])\n",
    "ax.plot(h.history['acc'], linewidth=2)\n",
    "ax.plot(h.history['val_acc'], linewidth=2)\n",
    "\n",
    "ax.legend(['train accuracy','valid accuracy'],fontsize=15,loc ='center right')\n",
    "ax.xaxis.grid(True, linestyle='--', which='major', color='grey', alpha=.2)\n",
    "ax.yaxis.grid(True, linestyle='--', which='major', color='grey', alpha=.5)\n",
    "\n",
    "ax.tick_params(labelsize=20)  # 坐标刻度上的字的大小\n",
    "ax.set_xlabel(xlabel='steps',     fontdict=font)\n",
    "ax.set_ylabel(ylabel='accuracy',  fontdict=font)\n",
    "# ax.set_ylim(0,1)\n",
    "plt.savefig('acc_steps.png',dpi=300)\n",
    "plt.show()"
   ]
  },
  {
   "cell_type": "code",
   "execution_count": null,
   "metadata": {},
   "outputs": [],
   "source": [
    "model.evaluate(tra_ds,steps=360//12*5)\n",
    "model.evaluate(tes_ds,steps=120//12*5)"
   ]
  },
  {
   "cell_type": "code",
   "execution_count": null,
   "metadata": {},
   "outputs": [],
   "source": []
  }
 ],
 "metadata": {
  "kernelspec": {
   "display_name": "Python 3",
   "language": "python",
   "name": "python3"
  },
  "language_info": {
   "codemirror_mode": {
    "name": "ipython",
    "version": 3
   },
   "file_extension": ".py",
   "mimetype": "text/x-python",
   "name": "python",
   "nbconvert_exporter": "python",
   "pygments_lexer": "ipython3",
   "version": "3.6.8"
  }
 },
 "nbformat": 4,
 "nbformat_minor": 4
}
